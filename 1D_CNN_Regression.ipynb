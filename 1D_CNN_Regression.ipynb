{
 "cells": [
  {
   "cell_type": "code",
   "execution_count": 1,
   "metadata": {},
   "outputs": [
    {
     "name": "stderr",
     "output_type": "stream",
     "text": [
      "Using TensorFlow backend.\n"
     ]
    }
   ],
   "source": [
    "import os\n",
    "import pandas as pd\n",
    "import tqdm\n",
    "from tqdm import tqdm_notebook\n",
    "import numpy as np\n",
    "from matplotlib import pyplot as plt\n",
    "from sklearn.preprocessing import MinMaxScaler\n",
    "from sklearn.model_selection import train_test_split\n",
    "from sklearn.metrics import mean_squared_error\n",
    "from keras.models import Sequential,load_model\n",
    "from keras.layers import LSTM, Dense,Conv1D,GlobalAveragePooling1D,MaxPooling1D\n",
    "from keras.layers import Dropout, Activation, Flatten\n",
    "from keras.optimizers import SGD"
   ]
  },
  {
   "cell_type": "code",
   "execution_count": 4,
   "metadata": {},
   "outputs": [
    {
     "name": "stdout",
     "output_type": "stream",
     "text": [
      "              Open    High     Low   Close   Volume  OpenInt\n",
      "Date                                                        \n",
      "1962-01-02  0.6277  0.6362  0.6201  0.6201  2575579        0\n",
      "1962-01-03  0.6201  0.6201  0.6122  0.6201  1764749        0\n",
      "1962-01-04  0.6201  0.6201  0.6037  0.6122  2194010        0\n",
      "1962-01-05  0.6122  0.6122  0.5798  0.5957  3255244        0\n",
      "1962-01-08  0.5957  0.5957  0.5716  0.5957  3696430        0\n"
     ]
    }
   ],
   "source": [
    "df_ge = pd.read_csv( \"us.ge.txt\", index_col=0)\n",
    "print(df_ge.head())"
   ]
  },
  {
   "cell_type": "code",
   "execution_count": null,
   "metadata": {},
   "outputs": [],
   "source": [
    "print(\"checking if any null values are present\\n\", df_ge.isna().sum())"
   ]
  },
  {
   "cell_type": "code",
   "execution_count": 23,
   "metadata": {},
   "outputs": [
    {
     "name": "stdout",
     "output_type": "stream",
     "text": [
      "Train and Test size 11246 2812\n"
     ]
    }
   ],
   "source": [
    "### In the complete code we can chnage parameters in two cells one is here with respect to data and second one in the Neural network cell where\n",
    "### we chnage the parameters for the neural network like epochs and batch size \n",
    "\n",
    "### Coloumns required for the input data can remove coloumns if need less number of features \n",
    "#train_cols = [\"Open\",\"High\",\"Low\",\"Close\",\"Volume\"]\n",
    "train_cols = [\"Open\",\"High\",\"Low\",\"Close\"]\n",
    "#train_cols = [\"Temperature\",\"Outflow\"]\n",
    "label_cols = [\"Close\"]\n",
    "\n",
    "#### Number of timesteps required \n",
    "TIME_STEPS = 180\n",
    "\n",
    "df_train, df_test = train_test_split(df_ge, train_size=0.8, test_size=0.2, shuffle=False)\n",
    "print(\"Train and Test size\", len(df_train), len(df_test))"
   ]
  },
  {
   "cell_type": "code",
   "execution_count": 24,
   "metadata": {},
   "outputs": [
    {
     "name": "stdout",
     "output_type": "stream",
     "text": [
      "[[ 0.6277  0.6362  0.6201  0.6201]\n",
      " [ 0.6201  0.6201  0.6122  0.6201]\n",
      " [ 0.6201  0.6201  0.6037  0.6122]\n",
      " ...\n",
      " [27.292  27.412  27.277  27.382 ]\n",
      " [27.254  27.718  27.18   27.718 ]\n",
      " [27.718  27.963  27.68   27.912 ]]\n"
     ]
    }
   ],
   "source": [
    "# Loading training data into X\n",
    "x = df_train.loc[:,train_cols].values\n",
    "#noise=abs((np.random.rand(x.shape[0],x.shape[1]) )*10)\n",
    "#x = x + noise\n",
    "y = df_train.loc[:,label_cols].values\n",
    "\n",
    "x_train=x\n",
    "y_train=y\n",
    "x_test = df_test.loc[:,train_cols].values\n",
    "y_test = df_test.loc[:,label_cols].values\n",
    "print(x_train)"
   ]
  },
  {
   "cell_type": "code",
   "execution_count": 25,
   "metadata": {},
   "outputs": [],
   "source": [
    "def build_timeseries(mat, y_label, TIME_STEPS):\n",
    "    # y_col_index is the index of column that would act as output column\n",
    "    # total number of time-series samples would be len(mat) - TIME_STEPS\n",
    "    dim_0 = mat.shape[0] - TIME_STEPS\n",
    "    dim_1 = mat.shape[1]\n",
    "    x = np.zeros((dim_0, TIME_STEPS, dim_1))\n",
    "    y = np.zeros((dim_0,))\n",
    "    y_Actual = np.zeros((dim_0,))\n",
    "    \n",
    "    for i in tqdm_notebook(range(dim_0)):\n",
    "        x[i] = mat[i:TIME_STEPS+i]\n",
    "        y[i] =y_label[TIME_STEPS+i, 0]\n",
    "        \n",
    "    print(\"length of time-series i/o\",x.shape,y.shape)\n",
    "    return x, y"
   ]
  },
  {
   "cell_type": "code",
   "execution_count": 26,
   "metadata": {},
   "outputs": [
    {
     "data": {
      "application/vnd.jupyter.widget-view+json": {
       "model_id": "e4ac98a8191d4361bb4b4fa3cb8c453e",
       "version_major": 2,
       "version_minor": 0
      },
      "text/plain": [
       "HBox(children=(IntProgress(value=0, max=11066), HTML(value='')))"
      ]
     },
     "metadata": {},
     "output_type": "display_data"
    },
    {
     "name": "stdout",
     "output_type": "stream",
     "text": [
      "\n",
      "length of time-series i/o (11066, 180, 4) (11066,)\n"
     ]
    },
    {
     "data": {
      "application/vnd.jupyter.widget-view+json": {
       "model_id": "33e28aea2df24ca687b9a44beeafffb9",
       "version_major": 2,
       "version_minor": 0
      },
      "text/plain": [
       "HBox(children=(IntProgress(value=0, max=2632), HTML(value='')))"
      ]
     },
     "metadata": {},
     "output_type": "display_data"
    },
    {
     "name": "stdout",
     "output_type": "stream",
     "text": [
      "\n",
      "length of time-series i/o (2632, 180, 4) (2632,)\n"
     ]
    }
   ],
   "source": [
    "\n",
    "\n",
    "\n",
    "# Converting the data into timeseries \n",
    "X_Train, Y_Train, = build_timeseries(x_train, y_train,TIME_STEPS)\n",
    "\n",
    "\n",
    "# Converting the data into timeseries \n",
    "X_Val, Y_Val = build_timeseries(x_test,y_test, TIME_STEPS)"
   ]
  },
  {
   "cell_type": "code",
   "execution_count": 27,
   "metadata": {},
   "outputs": [
    {
     "name": "stdout",
     "output_type": "stream",
     "text": [
      "[[[27.935 28.049 27.769 28.049]\n",
      "  [27.814 28.066 27.776 28.003]\n",
      "  [28.099 28.178 27.953 28.058]\n",
      "  ...\n",
      "  [29.942 30.392 29.917 30.376]\n",
      "  [30.417 30.424 30.201 30.255]\n",
      "  [30.337 30.392 29.982 30.15 ]]\n",
      "\n",
      " [[27.814 28.066 27.776 28.003]\n",
      "  [28.099 28.178 27.953 28.058]\n",
      "  [27.896 28.146 27.867 28.073]\n",
      "  ...\n",
      "  [30.417 30.424 30.201 30.255]\n",
      "  [30.337 30.392 29.982 30.15 ]\n",
      "  [30.424 30.609 30.337 30.441]]\n",
      "\n",
      " [[28.099 28.178 27.953 28.058]\n",
      "  [27.896 28.146 27.867 28.073]\n",
      "  [28.066 28.066 27.858 28.058]\n",
      "  ...\n",
      "  [30.337 30.392 29.982 30.15 ]\n",
      "  [30.424 30.609 30.337 30.441]\n",
      "  [30.441 30.441 30.088 30.11 ]]\n",
      "\n",
      " ...\n",
      "\n",
      " [[29.494 29.533 29.307 29.475]\n",
      "  [29.641 29.641 29.641 29.641]\n",
      "  [29.504 29.601 29.357 29.396]\n",
      "  ...\n",
      "  [19.92  20.33  19.86  20.14 ]\n",
      "  [20.52  20.53  20.08  20.13 ]\n",
      "  [20.17  20.25  20.12  20.21 ]]\n",
      "\n",
      " [[29.641 29.641 29.641 29.641]\n",
      "  [29.504 29.601 29.357 29.396]\n",
      "  [29.445 29.533 29.131 29.269]\n",
      "  ...\n",
      "  [20.52  20.53  20.08  20.13 ]\n",
      "  [20.17  20.25  20.12  20.21 ]\n",
      "  [20.21  20.32  20.07  20.12 ]]\n",
      "\n",
      " [[29.504 29.601 29.357 29.396]\n",
      "  [29.445 29.533 29.131 29.269]\n",
      "  [29.435 29.798 29.278 29.641]\n",
      "  ...\n",
      "  [20.17  20.25  20.12  20.21 ]\n",
      "  [20.21  20.32  20.07  20.12 ]\n",
      "  [20.04  20.071 19.85  19.99 ]]]\n",
      "[30.441 30.11  30.022 ... 20.12  19.99  20.49 ]\n"
     ]
    }
   ],
   "source": [
    "print(X_Val)\n",
    "print(Y_Val)"
   ]
  },
  {
   "cell_type": "code",
   "execution_count": 40,
   "metadata": {},
   "outputs": [
    {
     "name": "stdout",
     "output_type": "stream",
     "text": [
      "Train on 11066 samples, validate on 2632 samples\n",
      "Epoch 1/10\n",
      "11066/11066 [==============================] - 15s - loss: 13.5312 - val_loss: 48.4046\n",
      "Epoch 2/10\n",
      "11066/11066 [==============================] - 14s - loss: 8.8889 - val_loss: 70.9020\n",
      "Epoch 3/10\n",
      "11066/11066 [==============================] - 14s - loss: 7.7930 - val_loss: 70.9692\n",
      "Epoch 4/10\n",
      "11066/11066 [==============================] - 15s - loss: 7.1268 - val_loss: 73.4831\n",
      "Epoch 5/10\n",
      "11066/11066 [==============================] - 14s - loss: 6.4887 - val_loss: 98.2576\n",
      "Epoch 6/10\n",
      "11066/11066 [==============================] - 14s - loss: 5.8914 - val_loss: 80.2043\n",
      "Epoch 7/10\n",
      "11066/11066 [==============================] - 14s - loss: 5.6783 - val_loss: 115.0191\n",
      "Epoch 8/10\n",
      "11066/11066 [==============================] - 13s - loss: 5.4402 - val_loss: 93.2470\n",
      "Epoch 9/10\n",
      "11066/11066 [==============================] - 13s - loss: 5.1314 - val_loss: 120.2418\n",
      "Epoch 10/10\n",
      "11066/11066 [==============================] - 13s - loss: 4.5090 - val_loss: 125.9208\n",
      "_________________________________________________________________\n",
      "Layer (type)                 Output Shape              Param #   \n",
      "=================================================================\n",
      "conv1d_23 (Conv1D)           (None, 163, 64)           4672      \n",
      "_________________________________________________________________\n",
      "max_pooling1d_8 (MaxPooling1 (None, 54, 64)            0         \n",
      "_________________________________________________________________\n",
      "conv1d_24 (Conv1D)           (None, 37, 64)            73792     \n",
      "_________________________________________________________________\n",
      "global_average_pooling1d_8 ( (None, 64)                0         \n",
      "_________________________________________________________________\n",
      "dropout_8 (Dropout)          (None, 64)                0         \n",
      "_________________________________________________________________\n",
      "dense_15 (Dense)             (None, 20)                1300      \n",
      "_________________________________________________________________\n",
      "dense_16 (Dense)             (None, 1)                 21        \n",
      "=================================================================\n",
      "Total params: 79,785\n",
      "Trainable params: 79,785\n",
      "Non-trainable params: 0\n",
      "_________________________________________________________________\n"
     ]
    }
   ],
   "source": [
    "# Initialising the RNN\n",
    "model = Sequential()\n",
    "height = 18\n",
    "# Adding the first LSTM layer and some Dropout regularisation\n",
    "model.add(Conv1D(64,height, activation='relu', input_shape=(X_Train.shape[1],X_Train.shape[2])))\n",
    "#model.add(Conv1D(64, height, activation='relu'))\n",
    "model.add(MaxPooling1D(3))\n",
    "model.add(Conv1D(64,height, activation='relu'))\n",
    "#model.add(Conv1D(64,height, activation='relu'))\n",
    "model.add(GlobalAveragePooling1D())\n",
    "# Adding a Dense layer and some Dropout regularisation\n",
    "\n",
    "model.add(Dropout(0.5))\n",
    "model.add(Dense(20,activation='relu'))\n",
    "# Adding the output layer\n",
    "\n",
    "model.add(Dense(1, activation=\"linear\"))\n",
    "\n",
    "\n",
    "\n",
    "\n",
    "model.compile(optimizer = 'Adadelta', loss = 'mean_squared_error')\n",
    "# Number of epochs and Batch Sizes can be change \n",
    "history=model.fit(X_Train, Y_Train,\n",
    "           epochs=10,\n",
    "          validation_data=(X_Val, Y_Val))\n",
    "# Model summary for number of parameters use in the algorithm \n",
    "model.summary()"
   ]
  },
  {
   "cell_type": "code",
   "execution_count": 41,
   "metadata": {},
   "outputs": [],
   "source": [
    "model.save('my_model_1_CNN.hdf5')"
   ]
  },
  {
   "cell_type": "code",
   "execution_count": 42,
   "metadata": {},
   "outputs": [
    {
     "data": {
      "image/png": "[encoded data removed]",
      "text/plain": [
       "<Figure size 432x288 with 1 Axes>"
      ]
     },
     "metadata": {
      "needs_background": "light"
     },
     "output_type": "display_data"
    }
   ],
   "source": [
    "\n",
    "plt.plot(history.history['loss'])\n",
    "plt.plot(history.history['val_loss'])\n",
    "plt.title('model loss')\n",
    "plt.ylabel('loss')\n",
    "plt.xlabel('epoch')\n",
    "plt.legend(['train', 'Val'], loc='upper left')\n",
    "plt.show()\n"
   ]
  },
  {
   "cell_type": "code",
   "execution_count": 43,
   "metadata": {},
   "outputs": [
    {
     "name": "stdout",
     "output_type": "stream",
     "text": [
      "[[14.126834]] 30.441\n",
      "[[14.131354]] 30.11\n",
      "[[14.137741]] 30.022\n",
      "[[14.139987]] 29.596\n",
      "[[14.144247]] 30.046\n",
      "[[14.14937]] 30.159000000000002\n",
      "[[14.151141]] 29.828000000000003\n",
      "[[14.1545925]] 30.305\n",
      "[[14.1588]] 30.432\n",
      "[[14.159759]] 30.691999999999997\n",
      "[[14.162753]] 30.65\n",
      "[[14.165893]] 31.633000000000003\n",
      "[[14.166373]] 31.456\n",
      "[[14.168918]] 31.238000000000003\n",
      "[[14.17181]] 30.787\n",
      "[[14.172607]] 30.761999999999997\n",
      "[[14.175248]] 30.609\n",
      "[[14.178153]] 30.641\n",
      "[[14.179299]] 30.691999999999997\n",
      "[[14.182102]] 30.820999999999998\n",
      "[[14.185163]] 30.804000000000002\n",
      "[[14.1862]] 31.158\n",
      "[[14.189214]] 31.029\n",
      "[[14.192263]] 30.98\n",
      "[[14.193657]] 31.092\n",
      "[[14.197257]] 30.513\n",
      "[[14.200912]] 30.753\n",
      "[[14.203455]] 31.398000000000003\n",
      "[[14.208127]] 31.802\n",
      "[[14.211836]] 32.3\n",
      "[[14.215309]] 32.775999999999996\n",
      "[[14.220909]] 32.565\n",
      "[[14.225391]] 32.775999999999996\n",
      "[[14.230311]] 32.3\n",
      "[[14.237673]] 32.864000000000004\n",
      "[[14.243621]] 32.382\n",
      "[[14.250123]] 32.542\n",
      "[[14.259295]] 31.825\n",
      "[[14.266891]] 31.229\n",
      "[[14.275131]] 31.618000000000002\n",
      "[[14.285663]] 31.206\n",
      "[[14.29462]] 31.36\n",
      "[[14.304204]] 31.421999999999997\n",
      "[[14.315507]] 30.641\n",
      "[[14.325362]] 31.479\n",
      "[[14.335596]] 31.785\n",
      "[[14.347535]] 32.574\n",
      "[[14.357288]] 31.351\n",
      "[[14.367853]] 30.779\n",
      "[[14.380613]] 30.730999999999998\n",
      "[[14.391282]] 30.424\n",
      "[[14.402989]] 29.709\n",
      "[[14.416526]] 29.95\n",
      "[[14.428479]] 30.956999999999997\n",
      "[[14.441255]] 30.771\n",
      "[[14.455]] 30.875\n",
      "[[14.467066]] 31.513\n",
      "[[14.480631]] 31.496\n",
      "[[14.494161]] 31.729\n",
      "[[14.506331]] 31.398000000000003\n",
      "[[14.520554]] 30.633000000000003\n",
      "[[14.535082]] 31.165\n",
      "[[14.547947]] 30.916\n",
      "[[14.56268]] 31.294\n",
      "[[14.577443]] 31.432\n",
      "[[14.590528]] 31.198\n",
      "[[14.604769]] 31.721\n",
      "[[14.619131]] 31.198\n",
      "[[14.631935]] 31.552\n",
      "[[14.645703]] 31.802\n",
      "[[14.659539]] 32.124\n",
      "[[14.672026]] 32.615\n",
      "[[14.685722]] 32.486\n",
      "[[14.700555]] 32.348\n",
      "[[14.712992]] 33.556999999999995\n",
      "[[14.72704]] 33.628\n",
      "[[14.742692]] 33.203\n",
      "[[14.755947]] 33.211999999999996\n",
      "[[14.770643]] 32.889\n",
      "[[14.787771]] 33.09\n",
      "[[14.801774]] 33.227\n",
      "[[14.817566]] 33.324\n",
      "[[14.83547]] 33.33\n",
      "[[14.850378]] 33.83\n",
      "[[14.866757]] 33.91\n",
      "[[14.886203]] 33.453\n",
      "[[14.902214]] 33.575\n",
      "[[14.919324]] 33.628\n",
      "[[14.9401655]] 33.435\n",
      "[[14.956792]] 33.83\n",
      "[[14.97444]] 33.661\n",
      "[[14.995279]] 33.493\n",
      "[[15.011849]] 33.034\n",
      "[[15.02943]] 32.864000000000004\n",
      "[[15.049872]] 32.824\n",
      "[[15.066364]] 33.01\n",
      "[[15.083773]] 32.839\n",
      "[[15.104216]] 32.236\n",
      "[[15.120428]] 32.34\n",
      "[[15.137245]] 32.591\n"
     ]
    }
   ],
   "source": [
    "#print(model.predict(X_Val)\n",
    "\n",
    "x_buffer = np.zeros((1,X_Train.shape[1], X_Train.shape[2]))\n",
    "#model.predict(X_Val)\n",
    "for i in range(100):\n",
    "    x_buffer[0,:] = X_Val[i,:]\n",
    "    print(model.predict( x_buffer),Y_Val[i])\n",
    "   \n"
   ]
  },
  {
   "cell_type": "code",
   "execution_count": 44,
   "metadata": {},
   "outputs": [
    {
     "data": {
      "text/plain": [
       "array([[14.126833],\n",
       "       [14.131353],\n",
       "       [14.137739],\n",
       "       ...,\n",
       "       [12.500067],\n",
       "       [12.475724],\n",
       "       [12.454151]], dtype=float32)"
      ]
     },
     "execution_count": 44,
     "metadata": {},
     "output_type": "execute_result"
    }
   ],
   "source": [
    "predict =model.predict(X_Val)\n",
    "\n",
    "predict"
   ]
  },
  {
   "cell_type": "code",
   "execution_count": 45,
   "metadata": {},
   "outputs": [
    {
     "data": {
      "image/png": "[encoded data removed]",
      "text/plain": [
       "<Figure size 432x288 with 1 Axes>"
      ]
     },
     "metadata": {
      "needs_background": "light"
     },
     "output_type": "display_data"
    }
   ],
   "source": [
    "plt.figure()\n",
    "plt.plot((predict))\n",
    "plt.plot(Y_Val)\n",
    "\n",
    "plt.title('Flow prediction')\n",
    "plt.ylabel('Flow')\n",
    "plt.xlabel('Hour')\n",
    "plt.legend(['predict with appending values','Actual'], loc='upper left')\n",
    "\n",
    "#plt.savefig(\"figurelinearStandardNormalized.jpg\")\n",
    "plt.show()"
   ]
  },
  {
   "cell_type": "code",
   "execution_count": 46,
   "metadata": {},
   "outputs": [
    {
     "data": {
      "text/plain": [
       "125.92080823233421"
      ]
     },
     "execution_count": 46,
     "metadata": {},
     "output_type": "execute_result"
    }
   ],
   "source": [
    "mean_square_root = mean_squared_error(predict, Y_Val)\n",
    "mean_square_root"
   ]
  },
  {
   "cell_type": "code",
   "execution_count": 47,
   "metadata": {},
   "outputs": [
    {
     "data": {
      "text/plain": [
       "11.22144412419071"
      ]
     },
     "execution_count": 47,
     "metadata": {},
     "output_type": "execute_result"
    }
   ],
   "source": [
    "square_root=np.sqrt(mean_square_root)\n",
    "square_root"
   ]
  },
  {
   "cell_type": "code",
   "execution_count": null,
   "metadata": {},
   "outputs": [],
   "source": []
  },
  {
   "cell_type": "code",
   "execution_count": null,
   "metadata": {},
   "outputs": [],
   "source": []
  }
 ],
 "metadata": {
  "kernelspec": {
   "display_name": "Python 3",
   "language": "python",
   "name": "python3"
  },
  "language_info": {
   "codemirror_mode": {
    "name": "ipython",
    "version": 3
   },
   "file_extension": ".py",
   "mimetype": "text/x-python",
   "name": "python",
   "nbconvert_exporter": "python",
   "pygments_lexer": "ipython3",
   "version": "3.5.3rc1"
  }
 },
 "nbformat": 4,
 "nbformat_minor": 2
}
